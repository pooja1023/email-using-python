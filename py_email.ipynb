{
 "cells": [
  {
   "cell_type": "code",
   "execution_count": null,
   "metadata": {
    "collapsed": true
   },
   "outputs": [],
   "source": [
    "import smtplib\n",
    "sender='sender mail i\n",
    "s_pwd='sender password'\n",
    "receiver='receiver mail id'\n",
    "\n",
    "message = \"\"\"From:sender name <sender mail id>\n",
    "To:receiver name <receiver mail id>\n",
    "Subject: Email using python.\n",
    "\n",
    "I sent you this message using python.\n",
    "\"\"\"\n",
    "\n",
    "\n",
    "mail=smtplib.SMTP('smtp.gmail.com',587)\n",
    "mail.ehlo()\n",
    "mail.starttls()\n",
    "mail.login(sender,s_pwd)\n",
    "mail.sendmail(sender,receiver,message)\n",
    "mail.close()\n"
   ]
  }
 ],
 "metadata": {
  "kernelspec": {
   "display_name": "Python 3",
   "language": "python",
   "name": "python3"
  },
  "language_info": {
   "codemirror_mode": {
    "name": "ipython",
    "version": 3
   },
   "file_extension": ".py",
   "mimetype": "text/x-python",
   "name": "python",
   "nbconvert_exporter": "python",
   "pygments_lexer": "ipython3",
   "version": "3.6.0"
  }
 },
 "nbformat": 4,
 "nbformat_minor": 2
}
